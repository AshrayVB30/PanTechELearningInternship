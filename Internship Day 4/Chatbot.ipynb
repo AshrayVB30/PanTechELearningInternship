{
 "cells": [
  {
   "cell_type": "markdown",
   "id": "164a1bd4-dec6-49fc-8969-ef07c2728fd7",
   "metadata": {},
   "source": [
    "# Assignment-1\n",
    "create a chatbot using Python"
   ]
  },
  {
   "cell_type": "code",
   "execution_count": null,
   "id": "297704f1-028c-444a-a376-2bf8f8b8e802",
   "metadata": {},
   "outputs": [],
   "source": [
    "import re\n",
    "\n",
    "# Define more detailed responses\n",
    "responses = {\n",
    "    \"hello\": \"Hi there! How can I assist you today?\",\n",
    "    \"hi\": \"Hello! How's your day going?\",\n",
    "    \"how are you\": \"I'm just a program, but thanks for asking! How can I help you?\",\n",
    "    \"what is your name\": \"I'm a simple chatbot created to assist you!\",\n",
    "    \"who created you\": \"I was created by a Python programmer!\",\n",
    "    \"what can you do\": \"I can chat with you, answer simple questions, and help you with basic tasks.\",\n",
    "    \"tell me a joke\": \"Why don't scientists trust atoms? Because they make up everything!\",\n",
    "    \"what is python\": \"Python is a versatile programming language known for its readability and wide range of applications.\",\n",
    "    \"what is the time\": \"I don't have a clock, but you can check the time on your device!\",\n",
    "    \"bye\": \"Goodbye! Have a great day!\",\n",
    "    \"default\": \"I'm not sure I understand. Could you try asking in a different way?\"\n",
    "}\n"
   ]
  },
  {
   "cell_type": "code",
   "execution_count": null,
   "id": "03f4b6db-4162-4756-8f8a-c1044290867f",
   "metadata": {},
   "outputs": [],
   "source": [
    "# Function to get a response from the chatbot\n",
    "def get_response(user_input):\n",
    "    user_input = user_input.lower()  # Normalize the input to lowercase\n",
    "    for pattern in responses:\n",
    "        if re.search(pattern, user_input):\n",
    "            return responses[pattern]\n",
    "    return responses[\"default\"]\n"
   ]
  },
  {
   "cell_type": "code",
   "execution_count": null,
   "id": "7bacf289-d6c1-4463-adad-6225875bf7e5",
   "metadata": {},
   "outputs": [],
   "source": [
    "# Main function to start the chat\n",
    "def chat():\n",
    "    print(\"Chatbot: Hi! I'm here to chat. Type 'bye' to exit.\")\n",
    "    while True:\n",
    "        user_input = input(\"You: \")\n",
    "        if user_input.lower() == \"bye\":\n",
    "            print(\"Chatbot: Goodbye!\")\n",
    "            break\n",
    "        response = get_response(user_input)\n",
    "        print(\"Chatbot:\", response)\n",
    "\n",
    "# Run the chatbot\n",
    "if __name__ == \"__main__\":\n",
    "    chat()"
   ]
  },
  {
   "cell_type": "markdown",
   "id": "cd58ca10-6438-44af-89b9-2fa1b425db9e",
   "metadata": {},
   "source": [
    "# Explaination:\n",
    "\n",
    "1. re: \n",
    "> The re module is imported to work with regular expressions, which allow pattern matching in strings. This is useful for checking if the user's input matches a certain pattern or keyword.\n",
    "\n",
    "2. response & default:\n",
    "> This dictionary responses maps specific patterns (like \"hello\", \"hi\", \"how are you\", etc.) to corresponding responses that the chatbot will use.\n",
    "> Each key in the dictionary is a pattern or keyword that the chatbot will look for in the user's input.\n",
    "> The \"default\" key is used when no other pattern matches the user's input, providing a fallback response.\n",
    "\n",
    "3. Function to Get a Response:\n",
    ">The get_response function processes the user's input and determines the appropriate response.\n",
    ">user_input.lower() converts the user's input to lowercase to ensure the matching is case-insensitive.\n",
    ">The for loop iterates over each pattern in the responses dictionary.\n",
    ">re.search(pattern, user_input) checks if the user's input contains the pattern (using regular expressions).\n",
    ">If a match is found, the corresponding response from the dictionary is returned.\n",
    ">If no match is found, the function returns the \"default\" response.\n",
    "\n",
    "4. Main Function to Start the Chat\n",
    ">The chat function starts the chatbot and handles the interaction with the user.\n",
    ">It prints an initial greeting to the user.\n",
    ">The function enters a while True loop that runs indefinitely, allowing continuous conversation.\n",
    ">The input(\"You: \") line captures the user's input from the console.\n",
    ">If the user types \"bye\", the chatbot prints a goodbye message and exits the loop, ending the chat.\n",
    ">Otherwise, the get_response function is called to determine the appropriate response based on the user's input, and the chatbot's response is printed."
   ]
  }
 ],
 "metadata": {
  "kernelspec": {
   "display_name": "Python 3 (ipykernel)",
   "language": "python",
   "name": "python3"
  },
  "language_info": {
   "codemirror_mode": {
    "name": "ipython",
    "version": 3
   },
   "file_extension": ".py",
   "mimetype": "text/x-python",
   "name": "python",
   "nbconvert_exporter": "python",
   "pygments_lexer": "ipython3",
   "version": "3.11.7"
  }
 },
 "nbformat": 4,
 "nbformat_minor": 5
}
