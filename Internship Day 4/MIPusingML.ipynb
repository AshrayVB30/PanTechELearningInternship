{
 "cells": [
  {
   "cell_type": "markdown",
   "id": "a29cefb5-29e1-4d25-b0b4-3a5b8d7b496c",
   "metadata": {},
   "source": [
    "# MEDICAL INSURANCE PREDICTION USING MACHINE LEARNING"
   ]
  },
  {
   "cell_type": "code",
   "execution_count": null,
   "id": "8ec69c0d-5edc-49b1-9fc2-a3ee9bf6ab8e",
   "metadata": {},
   "outputs": [],
   "source": [
    "import warnings\n",
    "warnings.filterwarnings('ignore')\n",
    "import pandas as pd\n",
    "import numpy as np\n",
    "import matplotlib.pyplot as plt\n",
    "import seaborn as sns"
   ]
  },
  {
   "cell_type": "code",
   "execution_count": null,
   "id": "4ab6afe5-f5b0-42c3-a5ce-27e263bb35d4",
   "metadata": {},
   "outputs": [],
   "source": [
    "data = pd.read_csv('insurance.csv')\n",
    "data"
   ]
  },
  {
   "cell_type": "code",
   "execution_count": null,
   "id": "04fde26e-1b07-496d-bbdc-3cebc51463fc",
   "metadata": {},
   "outputs": [],
   "source": [
    "data.info()"
   ]
  },
  {
   "cell_type": "code",
   "execution_count": null,
   "id": "b18f576d-aae1-4d55-9402-4d9f7f569c55",
   "metadata": {},
   "outputs": [],
   "source": [
    "data.shape"
   ]
  },
  {
   "cell_type": "code",
   "execution_count": null,
   "id": "bac61358-0828-4041-8eae-279c671e6b10",
   "metadata": {},
   "outputs": [],
   "source": [
    "data.columns"
   ]
  },
  {
   "cell_type": "markdown",
   "id": "1b09a9be-cf15-411c-9bb7-715e7204a356",
   "metadata": {},
   "source": [
    "# PRE-PROCESSING"
   ]
  },
  {
   "cell_type": "code",
   "execution_count": null,
   "id": "481fb160-0613-4809-a1b7-548e9dec2cf0",
   "metadata": {},
   "outputs": [],
   "source": [
    "from sklearn.preprocessing import LabelEncoder"
   ]
  },
  {
   "cell_type": "code",
   "execution_count": null,
   "id": "c5269c82-feeb-42db-b597-363575c38f05",
   "metadata": {},
   "outputs": [],
   "source": [
    "lab = LabelEncoder()\n",
    "data['sex'] = lab.fit_transform(data['sex'])\n",
    "data['smoker'] = lab.fit_transform(data['smoker'])\n",
    "data['region'] = lab.fit_transform(data['region'])\n",
    "data.head()"
   ]
  },
  {
   "cell_type": "markdown",
   "id": "3d0e0546-a67c-4296-8e97-0d4d17c01016",
   "metadata": {},
   "source": [
    "# DATA EXPLORATION"
   ]
  },
  {
   "cell_type": "code",
   "execution_count": null,
   "id": "09ffadfd-4170-4c03-83fb-4d8d222f56f5",
   "metadata": {},
   "outputs": [],
   "source": [
    "sns.countplot(x='smoker', data=data)"
   ]
  },
  {
   "cell_type": "code",
   "execution_count": null,
   "id": "c41c0e6d-1881-461e-8abd-76fe1d8f82ab",
   "metadata": {},
   "outputs": [],
   "source": [
    "sns.countplot(x='sex', data=data)"
   ]
  },
  {
   "cell_type": "markdown",
   "id": "7d8db7d1-8721-4ab2-9f11-980ee357c6f7",
   "metadata": {},
   "source": [
    "# DATA SPLITTING"
   ]
  },
  {
   "cell_type": "code",
   "execution_count": null,
   "id": "e87e0c81-8e7b-4eab-a590-7c39d2d36d84",
   "metadata": {},
   "outputs": [],
   "source": [
    "x = data.iloc[:, data.columns != 'charges']\n",
    "y = data.iloc[:, data.columns == 'charges']\n",
    "\n",
    "x.head()"
   ]
  },
  {
   "cell_type": "code",
   "execution_count": null,
   "id": "60d41cd9-4671-4483-b437-7b858bb0f3d8",
   "metadata": {},
   "outputs": [],
   "source": [
    "from sklearn.model_selection import train_test_split\n",
    "from sklearn.metrics import accuracy_score, confusion_matrix,recall_score, roc_curve, auc"
   ]
  },
  {
   "cell_type": "code",
   "execution_count": null,
   "id": "e67dd0a4-09a5-4a92-8fd9-16db473459d4",
   "metadata": {},
   "outputs": [],
   "source": [
    "xtrain,xtest,ytrain,ytest = train_test_split(x,y,test_size=0.3)\n",
    "xtrain.head()\n",
    "ytrain.head()"
   ]
  },
  {
   "cell_type": "markdown",
   "id": "d152c839-ee7e-4dfa-ab98-50e6f8d8adf2",
   "metadata": {},
   "source": [
    "# RANDOM FOREST REGRESSION ALGORITHM "
   ]
  },
  {
   "cell_type": "code",
   "execution_count": null,
   "id": "ba560f46-d6ec-479a-8bf9-40d49483d67c",
   "metadata": {},
   "outputs": [],
   "source": [
    "from sklearn.ensemble import RandomForestRegressor"
   ]
  },
  {
   "cell_type": "code",
   "execution_count": null,
   "id": "3657c397-5ca4-45b2-8ca2-a835d4c6451e",
   "metadata": {},
   "outputs": [],
   "source": [
    "regression = RandomForestRegressor(n_estimators = 300, random_state = 0)\n",
    "regression.fit(xtrain, ytrain)"
   ]
  },
  {
   "cell_type": "code",
   "execution_count": null,
   "id": "ffd57580-559b-4171-b89e-a89811468a2d",
   "metadata": {},
   "outputs": [],
   "source": [
    "y_pred = regression.predict(xtest)"
   ]
  },
  {
   "cell_type": "code",
   "execution_count": null,
   "id": "a4911258-82e6-4396-8675-242839fa775c",
   "metadata": {},
   "outputs": [],
   "source": [
    "from sklearn import metrics\n",
    "from sklearn.metrics import r2_score"
   ]
  },
  {
   "cell_type": "code",
   "execution_count": null,
   "id": "eb7759ed-0fda-4d55-88c8-07657957f50d",
   "metadata": {},
   "outputs": [],
   "source": [
    "print('\\n\\nr2_score is ',r2_score(y_pred, ytest))"
   ]
  },
  {
   "cell_type": "markdown",
   "id": "2422a9f2-9adf-4422-afb2-7c360cf06743",
   "metadata": {},
   "source": [
    "# LINEAR REGRESSION ALGORITHM"
   ]
  },
  {
   "cell_type": "code",
   "execution_count": null,
   "id": "ed05eda2-5e2a-472e-b2bd-e2e3ffa08cc6",
   "metadata": {},
   "outputs": [],
   "source": [
    "from sklearn.linear_model import LinearRegression"
   ]
  },
  {
   "cell_type": "code",
   "execution_count": null,
   "id": "74d01c34-eaea-49a5-b3ec-fa97dc54b5c2",
   "metadata": {},
   "outputs": [],
   "source": [
    "alg = LinearRegression()\n",
    "alg.fit(xtrain, ytrain)"
   ]
  },
  {
   "cell_type": "code",
   "execution_count": null,
   "id": "080eb0ac-9919-4740-b82f-0f56ac2ee120",
   "metadata": {},
   "outputs": [],
   "source": [
    "t_predict = alg.predict(xtest)\n",
    "print('\\n\\nr2_score is ',r2_score(t_predict, ytest))"
   ]
  },
  {
   "cell_type": "markdown",
   "id": "a782d422-13cd-4244-9050-6b2f08c3a983",
   "metadata": {},
   "source": [
    "# DECISION TREE REGRESSION"
   ]
  },
  {
   "cell_type": "code",
   "execution_count": null,
   "id": "3217a8fd-884c-47f2-b541-1bc4dc5952c2",
   "metadata": {},
   "outputs": [],
   "source": [
    "from sklearn import tree"
   ]
  },
  {
   "cell_type": "markdown",
   "id": "3dc83020-995d-475f-a9b3-7cebd9fe0b7f",
   "metadata": {},
   "source": [
    "dt = tree.DecisionTreeRegressor()\n",
    "dt.fit(xtrain, ytrain)\n",
    "x_predicted = dt.predict(xtest)\n",
    "print('\\n\\nr2_score is ',r2_score(x_predicted, ytest))"
   ]
  },
  {
   "cell_type": "markdown",
   "id": "de53b201-6ca0-4415-a729-e9d290f39881",
   "metadata": {},
   "source": [
    "# SVR"
   ]
  },
  {
   "cell_type": "code",
   "execution_count": null,
   "id": "b3311be5-e9fc-4f25-b4e0-96ab0bb4ae05",
   "metadata": {},
   "outputs": [],
   "source": [
    "from sklearn.svm import SVR"
   ]
  },
  {
   "cell_type": "code",
   "execution_count": null,
   "id": "8b236dfb-0f55-4470-8f76-253a7576e602",
   "metadata": {},
   "outputs": [],
   "source": [
    "regressor = SVR()\n",
    "regressor.fit(xtrain, ytrain)\n",
    "predict = regressor.predict(xtest)\n",
    "print('\\n\\nr2_score is ',r2_score(predict, ytest))"
   ]
  },
  {
   "cell_type": "markdown",
   "id": "f10501ce-0477-4c44-ab43-42fb9d51e429",
   "metadata": {},
   "source": [
    "# Prediction on new vector"
   ]
  },
  {
   "cell_type": "code",
   "execution_count": null,
   "id": "35e3d672-9756-4d67-9356-5ed375ab8be0",
   "metadata": {},
   "outputs": [],
   "source": [
    "test_vector = np.reshape(np.asarray([19, 0, 27.900, 0, 1, 3]), (1, 6))\n",
    "p = int(regressor.predict(test_vector)[0])\n",
    "p"
   ]
  },
  {
   "cell_type": "markdown",
   "id": "ff442849-e596-4415-951c-037edae152d7",
   "metadata": {},
   "source": [
    "# Steps in ML project\n",
    "1. Data collection\n",
    "2. Data preprocessing\n",
    "3. Data exploration or Data Visulaization\n",
    "4. Model selection\n",
    "5. Model training\n",
    "6. Model evalution\n",
    "7. Model deployment"
   ]
  }
 ],
 "metadata": {
  "kernelspec": {
   "display_name": "Python 3 (ipykernel)",
   "language": "python",
   "name": "python3"
  },
  "language_info": {
   "codemirror_mode": {
    "name": "ipython",
    "version": 3
   },
   "file_extension": ".py",
   "mimetype": "text/x-python",
   "name": "python",
   "nbconvert_exporter": "python",
   "pygments_lexer": "ipython3",
   "version": "3.11.7"
  }
 },
 "nbformat": 4,
 "nbformat_minor": 5
}
