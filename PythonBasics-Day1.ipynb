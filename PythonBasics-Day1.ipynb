{
 "cells": [
  {
   "cell_type": "code",
   "execution_count": null,
   "id": "b8cbe4d3-f799-4e7c-b984-c82da748840b",
   "metadata": {},
   "outputs": [],
   "source": [
    "# Lists\n",
    "fruits = [\"apple\", \"banana\", \"cherry\",\"date\", \"fig\", \"grapes\"]\n",
    "print(fruits[2])\n",
    "fruits[0] = 'orange'\n",
    "print(fruits)"
   ]
  },
  {
   "cell_type": "code",
   "execution_count": null,
   "id": "78cff356-210d-4fd2-9571-e065686142e7",
   "metadata": {},
   "outputs": [],
   "source": [
    "# Slicing\n",
    "slice1 = fruits[1:4]\n",
    "print(slice1)\n",
    "slice2 = fruits[:3]\n",
    "print(slice2)\n",
    "slice3 = fruits[2:]\n",
    "print(slice3)"
   ]
  },
  {
   "cell_type": "code",
   "execution_count": null,
   "id": "ebe6673a-176a-442d-a669-fda9807c4b01",
   "metadata": {},
   "outputs": [],
   "source": [
    "# adding element\n",
    "fruits.insert(1, \"Apple\")\n",
    "print(fruits)\n",
    "# append\n",
    "fruits.append(\"mango\")\n",
    "print(fruits)\n",
    "# extend\n",
    "fruits.extend([\"graphs\",\"pinapple\"])\n",
    "print(fruits)\n",
    "# delete\n",
    "fruits.remove(\"Apple\")\n",
    "print(fruits)\n",
    "# remove\n",
    "fruits.remove(\"graphs\")\n",
    "print(fruits)"
   ]
  },
  {
   "cell_type": "code",
   "execution_count": null,
   "id": "1cee5376-02bc-496b-9640-976ef0387e9f",
   "metadata": {},
   "outputs": [],
   "source": [
    "# Tuples\n",
    "my_tuples = (\"apple\", \"banana\", \"cherry\")\n",
    "print(my_tuples)"
   ]
  },
  {
   "cell_type": "code",
   "execution_count": null,
   "id": "e0f7f4d3-8dec-401b-9ff6-ac5ff84ea9db",
   "metadata": {},
   "outputs": [],
   "source": [
    "# Dictionary\n",
    "person = {\n",
    "    \"name\" : \"John\",\n",
    "    \"age\": 30,\n",
    "    \"city\" : \"New York\"\n",
    "}\n",
    "# adding element\n",
    "person[\"job\"] = \"Engineer\"\n",
    "print(person)\n"
   ]
  },
  {
   "cell_type": "code",
   "execution_count": null,
   "id": "5a045483-dd9e-4876-8014-f8a6ac2646a8",
   "metadata": {},
   "outputs": [],
   "source": [
    "# deleting element\n",
    "dict = {\n",
    "    \"name\" : \"Zara\",\n",
    "    \"age\": 30,\n",
    "    \"city\" : \"New York\"\n",
    "}\n",
    "del dict['name']\n",
    "print(dict)\n",
    "# remove all entities in dict\n",
    "dict.clear;\n",
    "# entire dictionary\n",
    "del dict;\n",
    "print(dict)"
   ]
  },
  {
   "cell_type": "code",
   "execution_count": null,
   "id": "4ea8ff29-48f5-49ae-b33d-0083c9aea516",
   "metadata": {},
   "outputs": [],
   "source": [
    "# Set\n",
    "s1 = {1, 2, 3}\n",
    "s2 = {4, 5, 6, 3}\n",
    "union_set = s1 | s2\n",
    "print(union_set)\n",
    "insertion_set = s1 & s2\n",
    "print(insertion_set)"
   ]
  },
  {
   "cell_type": "code",
   "execution_count": null,
   "id": "ba1e375d-65c1-453d-8888-33d9b832ed61",
   "metadata": {},
   "outputs": [],
   "source": [
    "# String\n",
    "text = \"Python\"\n",
    "print(\"Length of text:\", len(text))"
   ]
  },
  {
   "cell_type": "markdown",
   "id": "4d54d3a5-55d9-4990-8f39-da758ed4125c",
   "metadata": {},
   "source": [
    "String methods\n",
    "1. upper()\n",
    "2. lower()\n",
    "3. strip()\n",
    "4. replace()\n",
    "5. capitalize()\n",
    "6. Formating string"
   ]
  },
  {
   "cell_type": "code",
   "execution_count": null,
   "id": "6b87f52d-34af-4c1c-ac3d-379cdcfbceea",
   "metadata": {},
   "outputs": [],
   "source": [
    "name = 'Alice'\n",
    "age = 30\n",
    "height = 5.5\n",
    "print(f\"Name: {name}, Age: {age}, Height: {height}\")"
   ]
  },
  {
   "cell_type": "code",
   "execution_count": null,
   "id": "9b0ab0d9-ebdb-4393-9c8c-f851a08f5951",
   "metadata": {},
   "outputs": [],
   "source": [
    "# indexing and slicing\n",
    "text = \"Python\"\n",
    "print(text[0])\n",
    "t1 = \"Hello, Word\"\n",
    "print(t1[7:12])"
   ]
  },
  {
   "cell_type": "code",
   "execution_count": null,
   "id": "971017f5-71f8-4b12-818f-6e6ca48ef7a4",
   "metadata": {},
   "outputs": [],
   "source": [
    "# if statement and if-else statement\n",
    "x = 10\n",
    "if x > 5:\n",
    "    print(\"x is greater than 5\")\n",
    "else:\n",
    "    print(\"x is lesser than 5\")"
   ]
  },
  {
   "cell_type": "code",
   "execution_count": null,
   "id": "961494b0-1b03-4fd2-a224-8bcd0fdda2e5",
   "metadata": {},
   "outputs": [],
   "source": [
    "# if-elif-else statement\n",
    "x = int(input(\"Enter a number: \"))\n",
    "if x > 10:\n",
    "     print(\"x is greater than 10\")\n",
    "elif x > 5:\n",
    "    print(\"x is greater than 5 but less than or equal to 10\")\n",
    "else:\n",
    "    print(\"x is lesser than 5\")"
   ]
  },
  {
   "cell_type": "markdown",
   "id": "b77d942d-3ea5-4976-9f70-a638b7e0afe2",
   "metadata": {},
   "source": [
    "looping in python\n",
    "1. for loop\n",
    "2. while loop"
   ]
  },
  {
   "cell_type": "code",
   "execution_count": null,
   "id": "0c6dd1a6-bb7f-44d0-9fda-597ee86ef0a5",
   "metadata": {},
   "outputs": [],
   "source": [
    "fruits = [\"apple\", \"banana\", \"cherry\",\"date\", \"fig\", \"grapes\"]\n",
    "for fruit in fruits:\n",
    "    print(fruit)"
   ]
  },
  {
   "cell_type": "code",
   "execution_count": null,
   "id": "42a3904b-f092-4259-ba22-c8107f57a7be",
   "metadata": {},
   "outputs": [],
   "source": [
    "def greet(name):\n",
    "    print(f\"Hello, World from {name}\")\n",
    "greet(\"Alice\")\n",
    "greet(\"Bob\")"
   ]
  },
  {
   "cell_type": "code",
   "execution_count": null,
   "id": "ed926fc0-e6cd-4c74-b9bf-5836310fe34b",
   "metadata": {},
   "outputs": [],
   "source": [
    "# POSITIONAL ARGUMENT\n",
    "def greet(l_name, f_name):\n",
    "    print(f\"My name is {f_name} {l_name}\")\n",
    "greet(\"Mathew\", \"Henry\")"
   ]
  },
  {
   "cell_type": "code",
   "execution_count": null,
   "id": "6634d971-218c-41b2-9b0b-60c531d69951",
   "metadata": {},
   "outputs": [],
   "source": [
    "# KEYWORD ARGUMENT\n",
    "def greet(l_name, f_name):\n",
    "    print(f\"My name is {f_name} {l_name}\")\n",
    "greet(f_name = \"Mathew\", l_name =  \"Henry\")"
   ]
  },
  {
   "cell_type": "code",
   "execution_count": null,
   "id": "1ddf897a-f50b-4fc1-84b8-3c68012d50da",
   "metadata": {},
   "outputs": [],
   "source": [
    "# DEFAULT ARGUMENT\n",
    "def greet(f_name = \"Mathew\", l_name =  \"Henry\"):\n",
    "    print(f\"My name is {f_name} {l_name}\")\n",
    "greet()"
   ]
  },
  {
   "cell_type": "code",
   "execution_count": null,
   "id": "d6fa65e4-312e-4704-a82c-370a665307e2",
   "metadata": {},
   "outputs": [],
   "source": [
    "# write a program to check wheather the given number is odd or even\n",
    "num = int(input(\"Enter a number: \"))\n",
    "if num % 2 == 0:\n",
    "    print(\"even number\")\n",
    "else:\n",
    "    print(\"odd number\")"
   ]
  },
  {
   "cell_type": "code",
   "execution_count": null,
   "id": "f2275d9e-20fb-4e44-b41a-7121f59ddcb5",
   "metadata": {},
   "outputs": [],
   "source": []
  }
 ],
 "metadata": {
  "kernelspec": {
   "display_name": "Python 3 (ipykernel)",
   "language": "python",
   "name": "python3"
  },
  "language_info": {
   "codemirror_mode": {
    "name": "ipython",
    "version": 3
   },
   "file_extension": ".py",
   "mimetype": "text/x-python",
   "name": "python",
   "nbconvert_exporter": "python",
   "pygments_lexer": "ipython3",
   "version": "3.11.7"
  }
 },
 "nbformat": 4,
 "nbformat_minor": 5
}
