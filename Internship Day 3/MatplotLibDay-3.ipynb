{
 "cells": [
  {
   "cell_type": "code",
   "execution_count": null,
   "id": "92898264-756e-4786-bc42-d7c69f8f2297",
   "metadata": {},
   "outputs": [],
   "source": [
    "import matplotlib.pyplot as plt"
   ]
  },
  {
   "cell_type": "code",
   "execution_count": null,
   "id": "a838c9c8-d63f-4b8c-9b4b-68ef80ee9361",
   "metadata": {},
   "outputs": [],
   "source": [
    "import numpy as np"
   ]
  },
  {
   "cell_type": "code",
   "execution_count": null,
   "id": "0bd7f136-5b87-4175-9d3d-9ba90370be2d",
   "metadata": {},
   "outputs": [],
   "source": [
    "x = np.array([1, 3])\n",
    "y = np.array([2, 5])\n",
    "plt.plot(x,y)\n",
    "plt.show()"
   ]
  },
  {
   "cell_type": "code",
   "execution_count": null,
   "id": "16ba8448-4d3c-401b-a39f-f7d80438c625",
   "metadata": {},
   "outputs": [],
   "source": [
    "# markers: \n",
    "y = np.array([4, 2, 8, 10])\n",
    "plt.plot(y, marker = '*')"
   ]
  },
  {
   "cell_type": "code",
   "execution_count": null,
   "id": "e5409bd7-ad36-4a0b-b07b-47a0b1f7dfc4",
   "metadata": {},
   "outputs": [],
   "source": [
    "plt.plot(y, marker = 'o')"
   ]
  },
  {
   "cell_type": "markdown",
   "id": "b2ee36c9-0397-4138-967e-f381d97d2fd1",
   "metadata": {},
   "source": [
    "Line reference:\n",
    "\n",
    "1. '-'  -> solid line\n",
    "2. ':'  -> doted line\n",
    "3. '--' -> dashed line\n",
    "4. '-.' -> dashed/dotted line"
   ]
  },
  {
   "cell_type": "raw",
   "id": "9a5484b6-6b8c-4215-beb0-1f3d09f98b40",
   "metadata": {},
   "source": [
    "y = np.array([3, 8, 1, 10])\n",
    "plt.plot(y, 'D:k')"
   ]
  },
  {
   "cell_type": "raw",
   "id": "f1c93a46-a434-48f1-8e68-473d92cb6369",
   "metadata": {},
   "source": [
    "# Colors\n",
    "r -> red\n",
    "b -> blue\n",
    "k -> black\n",
    "y -> yellow\n",
    "g -> green"
   ]
  },
  {
   "cell_type": "code",
   "execution_count": null,
   "id": "e0ce6ac4-9129-40f1-825f-071abe066f30",
   "metadata": {},
   "outputs": [],
   "source": [
    "# Marker size: \n",
    "y = np.array([3, 8, 1, 10])\n",
    "plt.plot(y, marker='o' ,ms=2.5)\n",
    "plt.show()"
   ]
  },
  {
   "cell_type": "code",
   "execution_count": null,
   "id": "5fa785f8-a700-4c76-bd9e-eec18017927b",
   "metadata": {},
   "outputs": [],
   "source": [
    "# marker face color\n",
    "y = np.array([3, 8, 1, 10])\n",
    "plt.plot(y, 'o:k', ms=25, mfc='k')\n"
   ]
  },
  {
   "cell_type": "code",
   "execution_count": null,
   "id": "18fb7929-d81d-4ae2-9976-7bf6e73d68a6",
   "metadata": {},
   "outputs": [],
   "source": [
    "# marker edge color\n",
    "y = np.array([3, 8, 1, 10])\n",
    "plt.plot(y, marker='D', ms=10, mfc='r', mec='k')"
   ]
  },
  {
   "cell_type": "code",
   "execution_count": null,
   "id": "1b242f6c-e155-4e6f-8e8e-62ed24ecabd7",
   "metadata": {},
   "outputs": [],
   "source": [
    "# Bar graph\n",
    "x = np.array(['A', 'B', 'C', 'D'])\n",
    "y = np.array([3, 8, 1, 10])\n",
    "plt.bar(x,y)"
   ]
  },
  {
   "cell_type": "code",
   "execution_count": null,
   "id": "f46d7dbe-bad0-4562-810b-0066a49dc279",
   "metadata": {},
   "outputs": [],
   "source": [
    "# Line graph\n",
    "x = np.array(['A', 'B', 'C', 'D'])\n",
    "y = np.array([3, 8, 1, 10])\n",
    "plt.plot(x,y)"
   ]
  },
  {
   "cell_type": "code",
   "execution_count": null,
   "id": "f1180652-dc1f-40a6-8baf-e3da88d11c24",
   "metadata": {},
   "outputs": [],
   "source": [
    "# Pie chart\n",
    "x = np.array(['A', 'B', 'C', 'D'])\n",
    "y = np.array([35, 25, 25, 15])\n",
    "e = [0.1, 0.1, 0.1, 0.1]\n",
    "plt.pie(y, labels=x, explode=e, shadow=1.5, autopct='%1.1f%%') "
   ]
  },
  {
   "cell_type": "code",
   "execution_count": null,
   "id": "47eccf58-0593-475a-a507-ae010414f267",
   "metadata": {},
   "outputs": [],
   "source": [
    "# Scatter graph\n",
    "x = np.array([6, 7, 8, 9, 10])\n",
    "y = np.array([1, 2, 3, 4, 5])\n",
    "plt.scatter(x,y)"
   ]
  },
  {
   "cell_type": "code",
   "execution_count": null,
   "id": "ed4fc52b-1ea9-4feb-ac7d-cda260aff1ab",
   "metadata": {},
   "outputs": [],
   "source": [
    "# Scatter graph\n",
    "x = np.array([6, 7, 8, 9, 10])\n",
    "y = np.array([1, 2, 3, 4, 5])\n",
    "plt.scatter(x,y)\n",
    "plt.legend('age')"
   ]
  },
  {
   "cell_type": "code",
   "execution_count": null,
   "id": "02e9faad-6725-4109-95db-4a49d29c8233",
   "metadata": {},
   "outputs": [],
   "source": [
    "# Horizontal bargraph\n",
    "x = ['JAN', 'FEB', 'MAR', 'APR', 'MAY']\n",
    "y = [10, 20, 30, 50, 25]\n",
    "c = ['green', 'blue', 'red', 'yellow', 'black']\n",
    "plt.barh(x,y,  color=c)\n",
    "plt.xlabel('Values')\n",
    "plt.ylabel('Months')\n",
    "plt.title('Monthly Values')\n",
    "plt.legend('A')"
   ]
  },
  {
   "cell_type": "code",
   "execution_count": null,
   "id": "73b183f5-61cc-41b6-bb36-73eb5a209aa6",
   "metadata": {},
   "outputs": [],
   "source": [
    "x = ['JAN', 'FEB', 'MAR', 'APR', 'MAY']\n",
    "y = [10, 20, 30, 50, 25]\n",
    "\n",
    "# Create the horizontal bar graph\n",
    "plt.barh(x, y, label='Group A')\n",
    "\n",
    "# Add labels and title\n",
    "plt.xlabel('Values')\n",
    "plt.ylabel('Months')\n",
    "plt.title('Monthly Values')\n",
    "\n",
    "# Create the first legend\n",
    "plt.legend(loc='upper right')\n",
    "\n",
    "# Add a second set of data for the second legend\n",
    "y2 = [15, 25, 35, 45, 30]\n",
    "plt.barh(x, y2, label='Group B', alpha=0.5)\n",
    "\n",
    "# Create the second legend\n",
    "plt.legend(loc='lower right')\n",
    "\n",
    "# Manually add the first legend back to the plot\n",
    "plt.gca().add_artist(plt.legend(loc='upper right'))\n",
    "\n",
    "# Show the chart\n",
    "plt.show()\n"
   ]
  },
  {
   "cell_type": "code",
   "execution_count": null,
   "id": "b16bda8b-6502-4841-8bac-d61da81ed918",
   "metadata": {},
   "outputs": [],
   "source": [
    "# Histogram\n",
    "y = [22, 33, 45, 25, 67, 89, 45, 33, 25, 55, 78, 44, 32, 11, 99]\n",
    "plt.hist(y, bins=5, color='pink', edgecolor='red')\n",
    "plt.title('Simple Histogram')"
   ]
  },
  {
   "cell_type": "code",
   "execution_count": null,
   "id": "b5061e9c-ace7-4b54-b151-726cfc3f781d",
   "metadata": {},
   "outputs": [],
   "source": [
    "# Create a pie chart showing market share of companies\n",
    "\n",
    "companies = np.array(['Company A', 'Company B', 'Company C', 'Company D', 'Company E'])\n",
    "market_share = np.array([25, 25, 20, 20, 10])\n",
    "e = [0, 0, 0.1, 0.1, 0.1]\n",
    "\n",
    "plt.pie(market_share, labels=companies, autopct=\"%1.1f%%\", shadow=True, explode=e)\n",
    "plt.title('MARKET SHARE OF COMPANIES')"
   ]
  },
  {
   "cell_type": "code",
   "execution_count": null,
   "id": "f7867173-ed12-4917-aa85-bfe8d36e3fdf",
   "metadata": {},
   "outputs": [],
   "source": [
    "# Create a bargraph that shows no.of books sold in each month\n",
    "\n",
    "months = ['JAN', 'FEB', 'MAR', 'APR', 'MAY', 'JUN', 'JUL', 'AUG', 'SEP', 'OCT', 'NOV', 'DEC']\n",
    "books = [120, 150, 170, 130, 160, 180, 200, 190, 210, 220, 230, 240]\n",
    "colors = ['#FF5733', '#33FF57', '#3357FF', '#FF33A1', '#A133FF', '#33FFF5', '#FF5733', '#57FF33', '#FF33D4', '#33FF8A', '#FF8A33', '#8A33FF']\n",
    "\n",
    "plt.bar(months, books, color=colors)\n",
    "plt.xlabel('Months')\n",
    "plt.ylabel('Number of Books Sold')\n",
    "plt.title('Books Sold Per Month')"
   ]
  },
  {
   "cell_type": "code",
   "execution_count": null,
   "id": "3774db93-1cf0-4a7c-9c43-9842f76dccb5",
   "metadata": {},
   "outputs": [],
   "source": [
    "# Create Scatter plot showing relationship between hours studied and test scored \n",
    "\n",
    "hours = np.array([1, 2, 3, 4, 5, 6, 7, 8, 9, 10])\n",
    "test_scored = np.array([50, 60,  55, 65,  75,70, 80, 85, 90, 95])\n",
    "\n",
    "plt.scatter(hours, test_scored)\n",
    "plt.xlabel('Hours Studied')\n",
    "plt.ylabel('Test Scores')\n",
    "plt.title('Relationship Between Hours Studied and Test Scores')"
   ]
  },
  {
   "cell_type": "code",
   "execution_count": null,
   "id": "0674c119-4f06-4334-9082-e66831870a2b",
   "metadata": {},
   "outputs": [],
   "source": [
    "# create histogram to visualize the distribution of exam scores for class of students\n",
    "\n",
    "exam_score = [65, 75, 85, 55, 60, 70, 80, 85, 90, 92, 75, 80, 85]\n",
    "plt.hist(exam_score, bins=5, color='blue', edgecolor='red')\n",
    "plt.title('Histogram of Exam Scores')\n",
    "plt.xlabel('Exam Scores')\n",
    "plt.ylabel('Frequency')"
   ]
  },
  {
   "cell_type": "code",
   "execution_count": null,
   "id": "9ff3936a-de84-41b5-ba6a-e07fc5a4bc0f",
   "metadata": {},
   "outputs": [],
   "source": []
  }
 ],
 "metadata": {
  "kernelspec": {
   "display_name": "Python 3 (ipykernel)",
   "language": "python",
   "name": "python3"
  },
  "language_info": {
   "codemirror_mode": {
    "name": "ipython",
    "version": 3
   },
   "file_extension": ".py",
   "mimetype": "text/x-python",
   "name": "python",
   "nbconvert_exporter": "python",
   "pygments_lexer": "ipython3",
   "version": "3.11.7"
  }
 },
 "nbformat": 4,
 "nbformat_minor": 5
}
