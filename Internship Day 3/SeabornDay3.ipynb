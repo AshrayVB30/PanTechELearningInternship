{
 "cells": [
  {
   "cell_type": "markdown",
   "id": "3a5d0971-e47b-4a4b-a0a9-04679d0684c3",
   "metadata": {},
   "source": [
    "Seaborn: Seaborn is a powerful and flexible data visualization library in Python that builds on top of Matplotlib and integrates closely with Pandas data structures. It provides a high-level interface for creating attractive and informative statistical graphics."
   ]
  },
  {
   "cell_type": "code",
   "execution_count": null,
   "id": "c4501cd0-98ad-4677-acfe-51564cfa3c44",
   "metadata": {},
   "outputs": [],
   "source": [
    "import seaborn as sns\n",
    "import matplotlib.pyplot as plt"
   ]
  },
  {
   "cell_type": "raw",
   "id": "b0efc492-ba2d-4c17-ba30-b0b3dd2c3356",
   "metadata": {},
   "source": [
    "Tips: (built-in dataset)"
   ]
  },
  {
   "cell_type": "code",
   "execution_count": null,
   "id": "a68e8ac9-3c8b-4bfd-91e2-fa4c16481804",
   "metadata": {},
   "outputs": [],
   "source": [
    "tips = sns.load_dataset(\"tips\")\n",
    "tips"
   ]
  },
  {
   "cell_type": "code",
   "execution_count": null,
   "id": "eb9248e9-54f5-48a9-80f3-3dca9d5f28bc",
   "metadata": {},
   "outputs": [],
   "source": [
    "tips.head(10)"
   ]
  },
  {
   "cell_type": "code",
   "execution_count": null,
   "id": "c621f080-b2d7-4bd7-869c-5e81907b1fc9",
   "metadata": {},
   "outputs": [],
   "source": [
    "# iris dataset\n",
    "data = sns.load_dataset(\"iris\")\n",
    "data"
   ]
  },
  {
   "cell_type": "code",
   "execution_count": null,
   "id": "815cec18-f223-4b3d-b8f5-4367c93b6b9c",
   "metadata": {},
   "outputs": [],
   "source": [
    "data.head(5)"
   ]
  },
  {
   "cell_type": "code",
   "execution_count": null,
   "id": "ab722c7a-adc9-42a8-b9b1-067a450796aa",
   "metadata": {},
   "outputs": [],
   "source": [
    "# create a basic scattleplt from iris dataset\n",
    "sns.scatterplot(x='sepal_length', y='sepal_width', data=data)\n",
    "plt.show()"
   ]
  },
  {
   "cell_type": "markdown",
   "id": "84bbc95a-3370-41a1-9a45-fffec9c64e2c",
   "metadata": {},
   "source": [
    "comman plots in seaborn\n",
    "1. Barplot -> used to create barchart\n",
    "2. Lineplot -> used for line graph\n",
    "3. Boxplot -> used for creating bosplots\n",
    "4. Histplot -> used for histogram\n",
    "5. Countplot -> used for giving count of observation\n",
    "6. heatplot -> used for displaying data in matrix  form\n",
    "7. scatterplot -> used for creating scatterplot"
   ]
  },
  {
   "cell_type": "code",
   "execution_count": null,
   "id": "45158ca6-367b-45b1-9b73-9d8018bc3b01",
   "metadata": {},
   "outputs": [],
   "source": [
    "# Histoplot\n",
    "sns.histplot(data=tips, x='total_bill', bins=100, kde=True)\n",
    "plt.title(\"Histogram of Total Bill\")\n",
    "plt.show()"
   ]
  },
  {
   "cell_type": "code",
   "execution_count": null,
   "id": "3cdf0f6d-9cf9-4531-b308-ff8b40f5b207",
   "metadata": {},
   "outputs": [],
   "source": [
    "# Boxplot\n",
    "sns.boxplot(data=tips, x=\"day\", y=\"total_bill\", hue='sex')\n",
    "plt.title(\"Box Plot of totalbill\")"
   ]
  },
  {
   "cell_type": "code",
   "execution_count": null,
   "id": "bef2b2be-f3a2-4fad-adae-a2d879bb37d5",
   "metadata": {},
   "outputs": [],
   "source": [
    "# Pair plot\n",
    "sns.pairplot(data=tips, hue='day')\n",
    "plt.show()"
   ]
  },
  {
   "cell_type": "code",
   "execution_count": null,
   "id": "b9b962dd-dba7-4168-8dc9-4dd16e48a875",
   "metadata": {},
   "outputs": [],
   "source": [
    "# Barplot\n",
    "sns.barplot(data=tips, x='day', y='total_bill')\n",
    "plt.title(\"BARPLOT OF DAY VS BILL\")"
   ]
  },
  {
   "cell_type": "code",
   "execution_count": null,
   "id": "8eb026ac-e78b-4f62-a725-b88df03fa1d2",
   "metadata": {},
   "outputs": [],
   "source": [
    "# lINE PLOT\n",
    "sns.lineplot(data=tips, x='day', y='total_bill' ,hue='time')\n",
    "plt.title(\"LINE PLOT  OF DAY VS BILL\")"
   ]
  },
  {
   "cell_type": "code",
   "execution_count": null,
   "id": "bc32d896-961b-4814-be18-fa7a90985e89",
   "metadata": {},
   "outputs": [],
   "source": [
    "# COUNT PLOT\n",
    "sns.countplot(data=tips, x='day')\n",
    "plt.title(\"COUNT PLOT  OF DAY VS BILL\")"
   ]
  },
  {
   "cell_type": "code",
   "execution_count": null,
   "id": "c7726464-aeac-4629-a955-824c7caf2749",
   "metadata": {},
   "outputs": [],
   "source": [
    "plt.figure(figsize=(6,3))\n",
    "data = sns.load_dataset(\"iris\")\n",
    "sns.countplot(data=data, x='species')\n",
    "plt.title('COUNT PLOT OF IRIS DATASET')"
   ]
  },
  {
   "cell_type": "code",
   "execution_count": null,
   "id": "190474d8-53ef-4cb0-b678-146df223775b",
   "metadata": {},
   "outputs": [],
   "source": [
    "# HEATMAP \n",
    "data = sns.load_dataset(\"iris\")\n",
    "numeric_data = data.select_dtypes(include=('float64','int64'))\n",
    "sns.heatmap(numeric_data.corr(), annot=True, cmap='YlGnBu')\n",
    "plt.title(\"CORRELATION HEATMAP OF IRIS DATA\")"
   ]
  },
  {
   "cell_type": "code",
   "execution_count": null,
   "id": "7a198f77-4eb1-47fd-9d7a-d11122af5148",
   "metadata": {},
   "outputs": [],
   "source": [
    "data = sns.load_dataset(\"tips\")\n",
    "num_data = data.select_dtypes(include=('float64','int64'))\n",
    "sns.heatmap(num_data.corr(), annot=False, cmap='coolwarm')\n",
    "plt.title(\"CORRELATION HEATMAP OF TIPS DATA\")"
   ]
  },
  {
   "cell_type": "code",
   "execution_count": null,
   "id": "ad35a8a9-9abe-4e87-b38d-57ba9b518302",
   "metadata": {},
   "outputs": [],
   "source": [
    "# VIOLIN PLOT\n",
    "tips = sns.load_dataset('tips')\n",
    "sns.violinplot(data=tips, x='day', y='total_bill')\n",
    "plt.title('VIOLIN PLOT OF TIPS DATASET')"
   ]
  },
  {
   "cell_type": "code",
   "execution_count": null,
   "id": "cef29db5-5eac-4467-bc9e-ed95dcc1d6c4",
   "metadata": {},
   "outputs": [],
   "source": [
    "# CUSTOMIZE SCATTERPLOT\n",
    "tips = sns.load_dataset('tips')\n",
    "sns.set_style('whitegrid')\n",
    "sns.scatterplot(data=tips, x='total_bill', y='tip')\n"
   ]
  },
  {
   "cell_type": "code",
   "execution_count": null,
   "id": "d83bd4b4-0f9d-47d6-83ac-9582247ee782",
   "metadata": {},
   "outputs": [],
   "source": [
    "# HOW TO COMBINE MULTIPLE PLOTS INTO A SINGLE FIGURE\n",
    "plt.figure(figsize=(6,3))\n",
    "tips = sns.load_dataset('tips')\n",
    "g = sns.FacetGrid(tips, col='time', row='sex')\n",
    "g.map(sns.scatterplot, \"total_bill\", 'tip')"
   ]
  }
 ],
 "metadata": {
  "kernelspec": {
   "display_name": "Python 3 (ipykernel)",
   "language": "python",
   "name": "python3"
  },
  "language_info": {
   "codemirror_mode": {
    "name": "ipython",
    "version": 3
   },
   "file_extension": ".py",
   "mimetype": "text/x-python",
   "name": "python",
   "nbconvert_exporter": "python",
   "pygments_lexer": "ipython3",
   "version": "3.11.7"
  }
 },
 "nbformat": 4,
 "nbformat_minor": 5
}
