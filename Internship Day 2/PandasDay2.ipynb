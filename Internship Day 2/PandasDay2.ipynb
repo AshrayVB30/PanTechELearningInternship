{
 "cells": [
  {
   "cell_type": "code",
   "execution_count": null,
   "id": "dba92757-0605-4899-a041-9435132b4c70",
   "metadata": {},
   "outputs": [],
   "source": [
    "import pandas as pd\n",
    "data = pd.read_csv(\"udemy_courses.csv\")\n",
    "data"
   ]
  },
  {
   "cell_type": "code",
   "execution_count": null,
   "id": "492d2cfb-b9ac-451e-a3e8-6c2c507d59e4",
   "metadata": {},
   "outputs": [],
   "source": [
    "data.iloc[1:10]"
   ]
  },
  {
   "cell_type": "code",
   "execution_count": null,
   "id": "64b5f969-e359-40f9-8cb6-d348dea125ab",
   "metadata": {},
   "outputs": [],
   "source": [
    "# calling first 10 data's\n",
    "data.head(3)"
   ]
  },
  {
   "cell_type": "code",
   "execution_count": null,
   "id": "ae0274bc-3632-42f7-9f21-391647c70635",
   "metadata": {},
   "outputs": [],
   "source": [
    "# calling last 10 data's\n",
    "data.tail(3)"
   ]
  },
  {
   "cell_type": "code",
   "execution_count": null,
   "id": "cbc93a26-aa93-4a47-b03f-63e7e9dc2e82",
   "metadata": {},
   "outputs": [],
   "source": [
    "# info function\n",
    "data.info()"
   ]
  },
  {
   "cell_type": "code",
   "execution_count": null,
   "id": "9412f804-72fd-491f-9416-e1374e2b0118",
   "metadata": {},
   "outputs": [],
   "source": [
    "# describe function: \n",
    "data.describe()"
   ]
  },
  {
   "cell_type": "code",
   "execution_count": null,
   "id": "8ce96770-fea3-41b9-a29e-2adda013612a",
   "metadata": {},
   "outputs": [],
   "source": [
    "# Gives no.of rows and no.of columns\n",
    "data.shape"
   ]
  },
  {
   "cell_type": "code",
   "execution_count": null,
   "id": "9f70d422-d395-4244-ad42-1f8acefe6e27",
   "metadata": {},
   "outputs": [],
   "source": [
    "# column names\n",
    "data.columns"
   ]
  },
  {
   "cell_type": "code",
   "execution_count": null,
   "id": "8035c6d6-54d1-4082-93b9-50eb91ee9407",
   "metadata": {},
   "outputs": [],
   "source": [
    "# count function: The count() function in pandas returns the number of non-null values in each column of the DataFrame\n",
    "data.count()"
   ]
  },
  {
   "cell_type": "code",
   "execution_count": null,
   "id": "bf5c291c-d5b5-4158-b3ab-ac11f3945a9a",
   "metadata": {},
   "outputs": [],
   "source": [
    "# Datatypes: \n",
    "data.dtypes"
   ]
  },
  {
   "cell_type": "code",
   "execution_count": null,
   "id": "858f0c43-d6b3-4857-a19d-bf8c5c7b1945",
   "metadata": {},
   "outputs": [],
   "source": [
    "# Data type of choosen column\n",
    "data[\"price\"].dtype"
   ]
  },
  {
   "cell_type": "code",
   "execution_count": null,
   "id": "0d172a2f-f551-4979-b0fc-6b08551b3e2a",
   "metadata": {},
   "outputs": [],
   "source": [
    "# O : Object datatype\n",
    "data[\"course_title\"].dtype"
   ]
  },
  {
   "cell_type": "code",
   "execution_count": null,
   "id": "4d4c9a83-f754-4fec-a42f-b4238208cbaa",
   "metadata": {},
   "outputs": [],
   "source": [
    "# Index function: which gives ranges of starting, end, step points\n",
    "data.index"
   ]
  },
  {
   "cell_type": "code",
   "execution_count": null,
   "id": "cc31ce7b-9ba8-4b85-9566-3c5a023463a1",
   "metadata": {},
   "outputs": [],
   "source": [
    "# The data.isnull() method in pandas detects missing values in a DataFrame.\n",
    "data.isnull()"
   ]
  },
  {
   "cell_type": "code",
   "execution_count": null,
   "id": "4233944a-cddc-4e88-8f66-f3933967711a",
   "metadata": {},
   "outputs": [],
   "source": [
    "data.isnull().sum()"
   ]
  },
  {
   "cell_type": "code",
   "execution_count": null,
   "id": "ed816571-eb51-42a8-95b1-252499efe582",
   "metadata": {},
   "outputs": [],
   "source": [
    "# The dropna() method in pandas removes rows or columns containing missing values (NaN or None) from a DataFrame.\n",
    "data.dropna()"
   ]
  },
  {
   "cell_type": "code",
   "execution_count": null,
   "id": "77c8e4c2-271a-4411-b50a-8f5a40558ec7",
   "metadata": {},
   "outputs": [],
   "source": [
    "# The fillna() method in pandas allows you to replace missing (NaN) values with a specified value.S\n",
    "data.fillna(0)"
   ]
  },
  {
   "cell_type": "code",
   "execution_count": null,
   "id": "b813bf19-b54e-4bd6-9f19-628e2beea05b",
   "metadata": {},
   "outputs": [],
   "source": [
    "# To drop a specific row from your DataFrame, you can use the drop() method with the appropriate index.\n",
    "# ROW\n",
    "data.drop(3677)"
   ]
  },
  {
   "cell_type": "code",
   "execution_count": null,
   "id": "5f56b60d-6be6-4fbd-9dc8-42c5b667babf",
   "metadata": {},
   "outputs": [],
   "source": [
    "# COLUMNS\n",
    "data.drop(columns = [\"level\"], axis = 1).head()"
   ]
  },
  {
   "cell_type": "code",
   "execution_count": null,
   "id": "5a688067-7e6e-439c-8b77-dfefda7d84bd",
   "metadata": {},
   "outputs": [],
   "source": [
    "# sorting by values\n",
    "data.sort_values(by='price', ascending=False)"
   ]
  },
  {
   "cell_type": "code",
   "execution_count": null,
   "id": "a42b1845-128a-4be4-bcdb-98f84b8092aa",
   "metadata": {},
   "outputs": [],
   "source": [
    "# Creatng a series\n",
    "data = [1, 2, 3, 4, 5, 6, 7, 8, 9, 10]\n",
    "series = pd.Series(data)\n",
    "series"
   ]
  },
  {
   "cell_type": "code",
   "execution_count": null,
   "id": "09a41deb-27f3-4a58-b714-874a9ed30c90",
   "metadata": {},
   "outputs": [],
   "source": [
    "# Dataframe\n",
    "data1 = {\n",
    "    \"Name\": [\"Henry\", \"William\",\"Jennifer\"],\n",
    "    \"Role\": [\"Hero\", \"Villian\", \"Heroin\"],\n",
    "    \"Age\": [28, 25, 26]\n",
    "}\n",
    "df1 = pd.DataFrame(data1, index = [\"Char1\", \"Char2\", \"Char3\"])\n",
    "df1"
   ]
  },
  {
   "cell_type": "code",
   "execution_count": null,
   "id": "bb869d7b-874a-49e7-8ce0-b58f3d5dd2d4",
   "metadata": {},
   "outputs": [],
   "source": [
    "data2 = {\n",
    "    \"Name\": [\"abc\", \"def\", \"ghi\"],\n",
    "    \"Role\": [\"Hero2\", \"Villan2\", \"Heroin2\"],\n",
    "    \"Age\": [28, 25, 26]\n",
    "}\n",
    "df2 = pd.DataFrame(data2, index = [\"Char4\", \"Char5\", \"Char6\"])\n",
    "df2"
   ]
  },
  {
   "cell_type": "code",
   "execution_count": null,
   "id": "24059e0d-feed-420b-90bd-7f25545b57e1",
   "metadata": {},
   "outputs": [],
   "source": [
    "pd.concat([df1, df2])"
   ]
  },
  {
   "cell_type": "raw",
   "id": "298e192b-bff0-4ef2-871c-6fc0f7605c20",
   "metadata": {},
   "source": [
    "INDEXING TYPES:\n",
    "1. LOC : Label Based Indexing\n",
    "2. ILOC : Integer Location Based Indexing"
   ]
  },
  {
   "cell_type": "code",
   "execution_count": null,
   "id": "df2aefbd-958d-40b0-9b6c-d3015bf0d7fa",
   "metadata": {},
   "outputs": [],
   "source": [
    "df1.loc[\"Char3\"]"
   ]
  },
  {
   "cell_type": "code",
   "execution_count": null,
   "id": "152285ba-9463-4abb-b706-2ad987bf449c",
   "metadata": {},
   "outputs": [],
   "source": [
    "df1.iloc[1:5]"
   ]
  },
  {
   "cell_type": "code",
   "execution_count": null,
   "id": "fc412699-3161-4dc4-915f-489ce8a09494",
   "metadata": {},
   "outputs": [],
   "source": [
    "# Create a dataframe from a dictionary of list and display the first five rows\n",
    "\n",
    "data = {\n",
    "    \"Name\": [\"Alice\", \"Bob\", \"Charlie\", \"David\", \"Eva\", \"Frank\", \"Grace\", \"Hannah\", \"Isaac\", \"Julia\"],\n",
    "    \"Role\": [\"Engineer\", \"Designer\", \"Manager\", \"Developer\", \"Analyst\", \"Architect\", \"Coordinator\", \"Tester\", \"Consultant\", \"Writer\"],\n",
    "    \"Age\": [30, 28, 35, 27, 29, 33, 31, 26, 34, 32]\n",
    "}\n",
    "df = pd.DataFrame(data)\n",
    "df"
   ]
  },
  {
   "cell_type": "code",
   "execution_count": null,
   "id": "4b75087b-d04a-4500-9425-0a44a9a1bfc7",
   "metadata": {},
   "outputs": [],
   "source": [
    "df.head()"
   ]
  },
  {
   "cell_type": "code",
   "execution_count": null,
   "id": "b26a8045-eb46-471b-9794-d0994641dd30",
   "metadata": {},
   "outputs": [],
   "source": [
    "df.tail()"
   ]
  },
  {
   "cell_type": "code",
   "execution_count": null,
   "id": "1a815784-7234-45fc-b537-bbce0afab9c5",
   "metadata": {},
   "outputs": [],
   "source": [
    "df.sort_values(by='Age', ascending=False)"
   ]
  },
  {
   "cell_type": "code",
   "execution_count": null,
   "id": "d4326135-532d-4631-9c3b-a34e3daf5d1a",
   "metadata": {},
   "outputs": [],
   "source": [
    "filtered_df = df[df['Age'] > 30]\n",
    "filtered_df"
   ]
  },
  {
   "cell_type": "code",
   "execution_count": null,
   "id": "de2a71ce-b0be-4b23-9472-368168697141",
   "metadata": {},
   "outputs": [],
   "source": []
  }
 ],
 "metadata": {
  "kernelspec": {
   "display_name": "Python 3 (ipykernel)",
   "language": "python",
   "name": "python3"
  },
  "language_info": {
   "codemirror_mode": {
    "name": "ipython",
    "version": 3
   },
   "file_extension": ".py",
   "mimetype": "text/x-python",
   "name": "python",
   "nbconvert_exporter": "python",
   "pygments_lexer": "ipython3",
   "version": "3.11.7"
  }
 },
 "nbformat": 4,
 "nbformat_minor": 5
}
