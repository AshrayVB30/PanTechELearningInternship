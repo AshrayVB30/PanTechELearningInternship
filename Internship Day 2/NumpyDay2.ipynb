{
 "cells": [
  {
   "cell_type": "markdown",
   "id": "dacbc7a2-6296-47b8-a980-88c3396d5eed",
   "metadata": {},
   "source": [
    "Numpy: \n",
    "NumPy is a powerful library in Python used for numerical computing. \n",
    "It provides support for arrays, matrices, and a wide range of mathematical functions to operate on these data structures. "
   ]
  },
  {
   "cell_type": "code",
   "execution_count": null,
   "id": "56ca87dd-1034-482d-a833-01e3bd83083b",
   "metadata": {},
   "outputs": [],
   "source": [
    "import numpy as np"
   ]
  },
  {
   "cell_type": "code",
   "execution_count": null,
   "id": "52e934da-acd8-4707-93f4-6e01491f245a",
   "metadata": {},
   "outputs": [],
   "source": [
    "#1-D array\n",
    "a = np.array([1, 2, 3, 4, 5])\n",
    "a"
   ]
  },
  {
   "cell_type": "code",
   "execution_count": null,
   "id": "8fcb04b2-4e92-41a2-b021-7c0620f1ec86",
   "metadata": {},
   "outputs": [],
   "source": [
    "# indexing\n",
    "a[4]"
   ]
  },
  {
   "cell_type": "code",
   "execution_count": null,
   "id": "1f66b79c-6944-4343-8972-c145144edb3c",
   "metadata": {},
   "outputs": [],
   "source": [
    "# type\n",
    "print(type(a))"
   ]
  },
  {
   "cell_type": "code",
   "execution_count": null,
   "id": "363a3aee-ad9c-4ad0-80a4-26151434d756",
   "metadata": {},
   "outputs": [],
   "source": [
    "a.shape"
   ]
  },
  {
   "cell_type": "code",
   "execution_count": null,
   "id": "4ce0bf54-84e0-4867-a284-44ee9ca46b74",
   "metadata": {},
   "outputs": [],
   "source": [
    "# to check the dimention of array\n",
    "a.ndim"
   ]
  },
  {
   "cell_type": "code",
   "execution_count": null,
   "id": "5704bc53-dce5-4143-8769-adb028e5fe33",
   "metadata": {},
   "outputs": [],
   "source": [
    "# 2-D array\n",
    "a2 = np.array([[1, 2, 3, 4, 5], \n",
    "              [10, 9, 6, 7, 8]])\n",
    "a2"
   ]
  },
  {
   "cell_type": "code",
   "execution_count": null,
   "id": "c0d95d80-530a-4787-8f65-540b74652c57",
   "metadata": {},
   "outputs": [],
   "source": [
    "a2.ndim"
   ]
  },
  {
   "cell_type": "code",
   "execution_count": null,
   "id": "3d3fe186-2079-4be5-9e33-c72ff8baed3e",
   "metadata": {},
   "outputs": [],
   "source": [
    "a2.shape"
   ]
  },
  {
   "cell_type": "code",
   "execution_count": null,
   "id": "1b292ba6-cb0c-4ec6-ac87-3636ef6bcd69",
   "metadata": {},
   "outputs": [],
   "source": [
    "print(type(a2))"
   ]
  },
  {
   "cell_type": "code",
   "execution_count": null,
   "id": "dd7a5bbc-d305-482b-ae54-2d65d2d14ada",
   "metadata": {},
   "outputs": [],
   "source": [
    "a2[0,4]"
   ]
  },
  {
   "cell_type": "code",
   "execution_count": null,
   "id": "b3b7d928-8b68-4f03-aef8-66da70dff352",
   "metadata": {},
   "outputs": [],
   "source": [
    "# slicing\n",
    "print(a2[1,2:4])\n",
    "print(a2[0,2:4])"
   ]
  },
  {
   "cell_type": "code",
   "execution_count": null,
   "id": "d10d8783-7b70-4a25-b0b2-a2a868beec1a",
   "metadata": {},
   "outputs": [],
   "source": [
    "# sorting\n",
    "a3 = np.array([82, 56, 95, 45, 30])\n",
    "np.sort(a3)"
   ]
  },
  {
   "cell_type": "code",
   "execution_count": null,
   "id": "fc6c9a91-4868-4e65-8105-169d44ba4d73",
   "metadata": {},
   "outputs": [],
   "source": [
    "# Artimatic operation\n",
    "a = np.array([1, 2, 3, 4, 5])\n",
    "b = np.array([6, 7, 8, 9, 10])\n",
    "\n",
    "print(\"Addition: \",np.add(a,b))\n",
    "print(\"Substraction: \",np.subtract(a,b))\n",
    "print(\"Multiplication: \",np.multiply(a,b))\n",
    "print(\"Division: \",np.divide(a,b))"
   ]
  },
  {
   "cell_type": "code",
   "execution_count": null,
   "id": "e8d28465-cbcd-475c-bf05-fd87fbe3f4cb",
   "metadata": {},
   "outputs": [],
   "source": [
    "# Reshape\n",
    "a = np.array([1, 2, 3, 4, 5, 6, 7, 8, 9])\n",
    "a.reshape(3,3)"
   ]
  },
  {
   "cell_type": "code",
   "execution_count": null,
   "id": "c5c5b304-4368-4173-98b1-768d8240c26e",
   "metadata": {},
   "outputs": [],
   "source": [
    "# Arange\n",
    "print(np.arange(1,10))\n",
    "print(np.arange(1, 10, 3))"
   ]
  },
  {
   "cell_type": "code",
   "execution_count": null,
   "id": "1dff5451-529d-468d-b6a9-aa3b7e03c489",
   "metadata": {},
   "outputs": [],
   "source": [
    "# creating a array with zeros\n",
    "np.zeros((5, 5), dtype=int)"
   ]
  },
  {
   "cell_type": "code",
   "execution_count": null,
   "id": "ad972aa6-cfca-4329-9067-43a334c14c12",
   "metadata": {},
   "outputs": [],
   "source": [
    "np.full((3,3),5)"
   ]
  },
  {
   "cell_type": "code",
   "execution_count": null,
   "id": "38742ffa-9207-47cd-8e99-eb9ae007d48f",
   "metadata": {},
   "outputs": [],
   "source": [
    "# 3-D ARRAYS\n",
    "A = np.array([[[1, 2, 3], [4, 5, 6]], [[7, 8, 9], [10, 11, 12]], [[13, 14, 15], [16, 17, 18]]])\n",
    "A"
   ]
  },
  {
   "cell_type": "code",
   "execution_count": null,
   "id": "e08814be-6769-44c5-b62f-124864230bb9",
   "metadata": {},
   "outputs": [],
   "source": [
    "A.shape"
   ]
  },
  {
   "cell_type": "code",
   "execution_count": null,
   "id": "bc47a7cb-7a17-4d6e-b01e-0383759fa0e3",
   "metadata": {},
   "outputs": [],
   "source": [
    "A.ndim"
   ]
  },
  {
   "cell_type": "code",
   "execution_count": null,
   "id": "1e0b2248-c46e-4c3f-b6f3-07d4361731b0",
   "metadata": {},
   "outputs": [],
   "source": [
    "# To flatten a NumPy array, you can use the .flatten() method.\n",
    "A.flatten()"
   ]
  },
  {
   "cell_type": "code",
   "execution_count": null,
   "id": "bf1f37d2-a28c-4459-888e-6535665a7bd3",
   "metadata": {},
   "outputs": [],
   "source": [
    "# indexing in 3-d array: \n",
    "    # The first index refers to the slice (which 3D layer you want to access).\n",
    "    # The second index refers to the row within that slice.\n",
    "    # The third index refers to the column within that row.\n",
    "x = A[2, 1, 2]\n",
    "x"
   ]
  }
 ],
 "metadata": {
  "kernelspec": {
   "display_name": "Python 3 (ipykernel)",
   "language": "python",
   "name": "python3"
  },
  "language_info": {
   "codemirror_mode": {
    "name": "ipython",
    "version": 3
   },
   "file_extension": ".py",
   "mimetype": "text/x-python",
   "name": "python",
   "nbconvert_exporter": "python",
   "pygments_lexer": "ipython3",
   "version": "3.11.7"
  }
 },
 "nbformat": 4,
 "nbformat_minor": 5
}
