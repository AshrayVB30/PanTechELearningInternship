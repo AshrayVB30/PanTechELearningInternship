{
 "cells": [
  {
   "cell_type": "markdown",
   "id": "08526203-b165-4810-a418-4a5844330a0c",
   "metadata": {},
   "source": [
    "# MEDICINAL PLANT PREDICTION"
   ]
  },
  {
   "cell_type": "code",
   "execution_count": null,
   "id": "7642243e-8c33-4c00-be20-7222d6770cee",
   "metadata": {},
   "outputs": [],
   "source": [
    "import numpy as np\n",
    "import os\n",
    "from sklearn.metrics import confusion_matrix\n",
    "import seaborn as sn; sn.set(font_scale=1.4)\n",
    "from sklearn.utils import shuffle\n",
    "import matplotlib.pyplot as plt\n",
    "import cv2\n",
    "import tensorflow as tf\n",
    "from tqdm import tqdm"
   ]
  },
  {
   "cell_type": "code",
   "execution_count": null,
   "id": "5c34bd8f-c5a2-410e-a60b-b48cf8000d1c",
   "metadata": {},
   "outputs": [],
   "source": [
    "class_names = ['Alovera','Ashoka','Bringaraja','Coriender','Curry Leaves',\n",
    "              'Eucalyptus', 'Henna', 'Hibiscus', 'Neem', 'Poision lvy']\n",
    "class_names_label = {class_names: i for i, class_names in enumerate(class_names)}\n",
    "nb_classes = len(class_names)\n",
    "IMAGE_SIZE = (150, 150)"
   ]
  },
  {
   "cell_type": "markdown",
   "id": "ade03126-39fe-415b-9e86-c5d5df9124e0",
   "metadata": {},
   "source": [
    "# LOADING DATA\n",
    "We have to write a load data function that load the images and the lables from the folder"
   ]
  },
  {
   "cell_type": "code",
   "execution_count": null,
   "id": "d613a614-8a1b-4c8f-95d2-c23b285e1775",
   "metadata": {},
   "outputs": [],
   "source": [
    "def load_data():\n",
    "    datasets = [r'test.rar',\n",
    "               r'train.rar']\n",
    "    output = []\n",
    "\n",
    "    for dataset in datasets:\n",
    "        images = []\n",
    "        labels = []\n",
    "\n",
    "        print('Loading {}'.format(dataset))\n",
    "\n",
    "        for folder in os.listdir(dataset):\n",
    "            label = class_names_label[folder]\n",
    "\n",
    "            for file in tqdm(os.listdir(os.path.join(dataset, folder))):\n",
    "                img_path = os.path.join(os.path.join(dataset, folder), file)\n",
    "                "
   ]
  },
  {
   "cell_type": "code",
   "execution_count": null,
   "id": "ae1506f1-76da-4cfd-80b6-7ecab72bbaf2",
   "metadata": {},
   "outputs": [],
   "source": []
  }
 ],
 "metadata": {
  "kernelspec": {
   "display_name": "Python 3 (ipykernel)",
   "language": "python",
   "name": "python3"
  },
  "language_info": {
   "codemirror_mode": {
    "name": "ipython",
    "version": 3
   },
   "file_extension": ".py",
   "mimetype": "text/x-python",
   "name": "python",
   "nbconvert_exporter": "python",
   "pygments_lexer": "ipython3",
   "version": "3.9.19"
  }
 },
 "nbformat": 4,
 "nbformat_minor": 5
}
