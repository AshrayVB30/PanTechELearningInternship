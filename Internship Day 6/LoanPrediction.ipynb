{
 "cells": [
  {
   "cell_type": "markdown",
   "id": "3675cff0-1093-4cb2-8284-eefcd602a853",
   "metadata": {},
   "source": [
    "# LOAN STATUS PREDICTION"
   ]
  },
  {
   "cell_type": "code",
   "execution_count": null,
   "id": "a649827c-56b9-4b53-b9b1-3189b80bcff4",
   "metadata": {},
   "outputs": [],
   "source": [
    "import numpy as np\n",
    "import pandas as pd\n",
    "from sklearn.model_selection import train_test_split\n",
    "import seaborn as sns\n",
    "from sklearn import svm\n",
    "from sklearn.metrics import accuracy_score"
   ]
  },
  {
   "cell_type": "code",
   "execution_count": null,
   "id": "5de333e1-0093-4e85-9cd9-878a6bef575c",
   "metadata": {},
   "outputs": [],
   "source": [
    "# DATA COLLECTION AND PROCESSING\n",
    "loan_dataset = pd.read_csv('home_dataset.csv')\n",
    "print (type(loan_dataset))\n",
    "loan_dataset"
   ]
  },
  {
   "cell_type": "code",
   "execution_count": null,
   "id": "3448ad7b-5290-402c-8630-2e9b2c73666b",
   "metadata": {},
   "outputs": [],
   "source": [
    "loan_dataset.shape"
   ]
  },
  {
   "cell_type": "code",
   "execution_count": null,
   "id": "d1e4a8cb-8af8-4e14-8727-2e9a3905b572",
   "metadata": {},
   "outputs": [],
   "source": [
    "loan_dataset.describe()"
   ]
  },
  {
   "cell_type": "code",
   "execution_count": null,
   "id": "a873e9c1-331b-4f9f-aab0-a972c64d319a",
   "metadata": {},
   "outputs": [],
   "source": [
    "loan_dataset.isnull().sum()"
   ]
  },
  {
   "cell_type": "code",
   "execution_count": null,
   "id": "42c3a9e6-9c0d-486a-8ba2-56425c5c6264",
   "metadata": {},
   "outputs": [],
   "source": [
    "loan_dataset = loan_dataset.dropna()"
   ]
  },
  {
   "cell_type": "code",
   "execution_count": null,
   "id": "c9e38aff-1b13-4814-ae99-91f2a7f3a342",
   "metadata": {},
   "outputs": [],
   "source": [
    "loan_dataset.isnull().sum()"
   ]
  },
  {
   "cell_type": "code",
   "execution_count": null,
   "id": "79513727-6c0a-425f-adf4-6d9ed11792f0",
   "metadata": {},
   "outputs": [],
   "source": [
    "# Label encoding\n",
    "# Using .loc to avoid SettingWithCopyWarning\n",
    "loan_dataset['Loan_Status'].replace({'N': 0, 'Y': 1})"
   ]
  },
  {
   "cell_type": "code",
   "execution_count": null,
   "id": "4a392307-aebf-4c2e-8f05-0276fdad4451",
   "metadata": {},
   "outputs": [],
   "source": [
    "loan_dataset.head()"
   ]
  },
  {
   "cell_type": "code",
   "execution_count": null,
   "id": "8617d61a-9f5f-4eb6-809a-38211d25e655",
   "metadata": {},
   "outputs": [],
   "source": [
    "# dependent column \n",
    "# Label encoding\n",
    "loan_dataset['Dependents'].value_counts()"
   ]
  },
  {
   "cell_type": "code",
   "execution_count": null,
   "id": "758d539c-6c12-4761-989b-4522b379e4a8",
   "metadata": {},
   "outputs": [],
   "source": [
    "loan_dataset = loan_dataset.replace(to_replace = '3+', value=4)"
   ]
  },
  {
   "cell_type": "markdown",
   "id": "6b2bfca6-4a52-41bc-be87-2d45c6cad729",
   "metadata": {},
   "source": [
    "# DATA VISUALIZATION"
   ]
  },
  {
   "cell_type": "code",
   "execution_count": null,
   "id": "cb2a8c28-914e-46fd-b396-05e1a374ad2c",
   "metadata": {},
   "outputs": [],
   "source": [
    "sns.countplot(x='Education', hue='Loan_Status', data=loan_dataset)"
   ]
  },
  {
   "cell_type": "code",
   "execution_count": null,
   "id": "ea73c751-10e0-477c-b8e1-df79ea1e072f",
   "metadata": {},
   "outputs": [],
   "source": [
    "sns.countplot(x='Married', hue='Loan_Status', data=loan_dataset)"
   ]
  },
  {
   "cell_type": "code",
   "execution_count": null,
   "id": "8751de56-de20-4af6-bf35-5d82c4902bde",
   "metadata": {},
   "outputs": [],
   "source": [
    "# Convert categorical columns to numerical values\n",
    "loan_dataset.replace({'Married':{'No':0,'Yes':1},\n",
    "                      'Gender': {'Male':1,'Female':0},\n",
    "                      'Self_Employed':{'No':0,'Yes':1},\n",
    "                      'Property_Area':{'Rural':0, 'Urban':2, 'Semiurban':1},\n",
    "                      'Education':{'Graduate':1, 'Not Graduate':0}\n",
    "                     }, inplace=True)\n",
    "\n",
    "loan_dataset.head()"
   ]
  },
  {
   "cell_type": "code",
   "execution_count": null,
   "id": "6014801e-2095-40e6-a90b-f86a055fa08b",
   "metadata": {},
   "outputs": [],
   "source": [
    "x = loan_dataset.drop(columns=['Loan_ID', 'Loan_Status'], axis=1)\n",
    "y = loan_dataset['Loan_Status']"
   ]
  },
  {
   "cell_type": "code",
   "execution_count": null,
   "id": "ac433588-48ab-4ef7-8a5b-51586cd29b7b",
   "metadata": {},
   "outputs": [],
   "source": [
    "x_train,x_test,y_train,y_test=train_test_split(x,y,test_size=0.1,stratify=y,random_state=2)"
   ]
  },
  {
   "cell_type": "code",
   "execution_count": null,
   "id": "ce7ae55c-f167-46ff-b08b-330475017502",
   "metadata": {},
   "outputs": [],
   "source": [
    "print(x.shape, x_train.shape, x_test.shape)"
   ]
  },
  {
   "cell_type": "markdown",
   "id": "3ff2ed0a-11fc-4a14-b1e9-825fd1da9d90",
   "metadata": {},
   "source": [
    "# Training the model"
   ]
  },
  {
   "cell_type": "code",
   "execution_count": null,
   "id": "8f30de83-95d1-4dd8-93f6-5eed9ccf9c87",
   "metadata": {},
   "outputs": [],
   "source": [
    "classifier = svm.SVC(kernel='linear')"
   ]
  },
  {
   "cell_type": "code",
   "execution_count": null,
   "id": "c90668a7-96b9-41a2-a68e-e3c98baff849",
   "metadata": {},
   "outputs": [],
   "source": [
    "classifier.fit(x_train, y_train)"
   ]
  },
  {
   "cell_type": "code",
   "execution_count": null,
   "id": "4d65fd88-0904-444d-9aab-b86458b6dbaa",
   "metadata": {},
   "outputs": [],
   "source": [
    "# model evalution"
   ]
  },
  {
   "cell_type": "code",
   "execution_count": null,
   "id": "8c3e1b73-8f2b-4655-912c-dd6748d394aa",
   "metadata": {},
   "outputs": [],
   "source": [
    "# Assuming y_train contains the true labels\n",
    "x_train_prediction = classifier.predict(x_train)\n",
    "training_data_accuracy = accuracy_score(y_train, x_train_prediction)"
   ]
  },
  {
   "cell_type": "code",
   "execution_count": null,
   "id": "88ed3089-de4b-4531-9ad9-af78af682fc0",
   "metadata": {},
   "outputs": [],
   "source": [
    "print(f\"Training Data Accuracy: \",training_data_accuracy)"
   ]
  },
  {
   "cell_type": "code",
   "execution_count": null,
   "id": "5e1508c0-3866-40ec-b21b-ce43bde78d09",
   "metadata": {},
   "outputs": [],
   "source": [
    "x_test_prediction = classifier.predict(x_test)\n",
    "test_data_accuracy = accuracy_score(y_test, x_test_prediction)"
   ]
  },
  {
   "cell_type": "code",
   "execution_count": null,
   "id": "08431639-ab57-439e-bea3-5f9da7e9f021",
   "metadata": {},
   "outputs": [],
   "source": [
    "print(f\"Training Data Accuracy: \",test_data_accuracy)"
   ]
  },
  {
   "cell_type": "code",
   "execution_count": null,
   "id": "489ebb29-c9d3-4940-b7f6-698ce7b45b82",
   "metadata": {},
   "outputs": [],
   "source": [
    "# continue.... "
   ]
  },
  {
   "cell_type": "markdown",
   "id": "ac55bf45-8ddf-4a6d-82f7-1c4c817ee115",
   "metadata": {},
   "source": []
  },
  {
   "cell_type": "code",
   "execution_count": null,
   "id": "927b7a28-d5cf-4b71-ad3f-bce01283da40",
   "metadata": {},
   "outputs": [],
   "source": []
  }
 ],
 "metadata": {
  "kernelspec": {
   "display_name": "Python 3 (ipykernel)",
   "language": "python",
   "name": "python3"
  },
  "language_info": {
   "codemirror_mode": {
    "name": "ipython",
    "version": 3
   },
   "file_extension": ".py",
   "mimetype": "text/x-python",
   "name": "python",
   "nbconvert_exporter": "python",
   "pygments_lexer": "ipython3",
   "version": "3.11.7"
  }
 },
 "nbformat": 4,
 "nbformat_minor": 5
}
