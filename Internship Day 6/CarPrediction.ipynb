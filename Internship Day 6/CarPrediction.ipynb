{
 "cells": [
  {
   "cell_type": "markdown",
   "id": "796ee835-ca0f-4a26-bb9d-baeca4f2161e",
   "metadata": {},
   "source": [
    "# CAR PRICE PREDICTION"
   ]
  },
  {
   "cell_type": "markdown",
   "id": "f170e2fb-9eff-4e46-b672-fd1377c24546",
   "metadata": {},
   "source": [
    "# Importing the dependenecies"
   ]
  },
  {
   "cell_type": "code",
   "execution_count": null,
   "id": "bb7fa344-8b29-4eb7-8b3e-7e6308eeaa3a",
   "metadata": {},
   "outputs": [],
   "source": [
    "import pandas as pd\n",
    "import matplotlib.pyplot as plt\n",
    "import seaborn as sns\n",
    "from sklearn.model_selection import train_test_split\n",
    "from sklearn.linear_model import LinearRegression, Lasso\n",
    "from sklearn import metrics"
   ]
  },
  {
   "cell_type": "markdown",
   "id": "73675e6e-7fed-43c5-b006-ec45ff9a620e",
   "metadata": {},
   "source": [
    "# Data collection and processing"
   ]
  },
  {
   "cell_type": "code",
   "execution_count": null,
   "id": "23a9b1d7-7fe7-4b09-8e28-08d9dc7d6a3f",
   "metadata": {},
   "outputs": [],
   "source": [
    "# Load data fromcsv file\n",
    "car_dataset = pd.read_csv('car_data.csv')\n",
    "car_dataset"
   ]
  },
  {
   "cell_type": "code",
   "execution_count": null,
   "id": "2e2ae8cb-96b5-43c7-9887-f9f1df113ab4",
   "metadata": {},
   "outputs": [],
   "source": [
    "# checking the no.of rows and columns\n",
    "car_dataset.shape"
   ]
  },
  {
   "cell_type": "code",
   "execution_count": null,
   "id": "5bd0f74c-4e3c-4cc3-99d2-33b38b1c19f3",
   "metadata": {},
   "outputs": [],
   "source": [
    "# getting some information \n",
    "car_dataset.info()"
   ]
  },
  {
   "cell_type": "code",
   "execution_count": null,
   "id": "61cea04b-bb50-42dd-807b-fdc02f29f032",
   "metadata": {},
   "outputs": [],
   "source": [
    "# checking the number of missing values\n",
    "car_dataset.isnull().sum()"
   ]
  },
  {
   "cell_type": "code",
   "execution_count": null,
   "id": "adf1fcc8-bf0f-4e34-a056-700c10307cc5",
   "metadata": {},
   "outputs": [],
   "source": [
    "# Checking the distribution of catagorial data\n",
    "print(car_dataset.Fuel_Type.value_counts())\n",
    "print(car_dataset.Seller_Type.value_counts())\n",
    "print(car_dataset.Transmission.value_counts())"
   ]
  },
  {
   "cell_type": "markdown",
   "id": "ef1cf6fa-359a-42b5-b00e-0f63d5edbd5f",
   "metadata": {},
   "source": [
    "# Encoding the categorial data"
   ]
  },
  {
   "cell_type": "code",
   "execution_count": null,
   "id": "b0ff2d33-7aaa-494a-9fac-937cf16a1d80",
   "metadata": {},
   "outputs": [],
   "source": [
    "# Encoding 'Fuel_Type' column\n",
    "car_dataset.replace({'Fuel_Type':{'Petrol':0,'Diesel':1,'CNG':2}},inplace=True)\n",
    "\n",
    "# Encoding 'Seller_Type' column\n",
    "car_dataset.replace({'Seller_Type':{'Dealer':0,'Individual':1}},inplace=True)\n",
    "\n",
    "# Encoding 'Transmission' column\n",
    "car_dataset.replace({'Transmission':{'Manual':0,'Automatic':1}},inplace=True)"
   ]
  },
  {
   "cell_type": "markdown",
   "id": "2fde55c9-02c8-44ee-aaf6-b697f69da407",
   "metadata": {},
   "source": [
    "# Spliting the data and target"
   ]
  },
  {
   "cell_type": "code",
   "execution_count": null,
   "id": "21fb7473-dd48-4fda-b78f-6b82e8371205",
   "metadata": {},
   "outputs": [],
   "source": [
    "x = car_dataset.drop(['Car_Name','Selling_Price'], axis=1)\n",
    "y = car_dataset['Selling_Price']\n",
    "print(x)\n",
    "print(y)"
   ]
  },
  {
   "cell_type": "code",
   "execution_count": null,
   "id": "b9ce0c43-777e-47c7-9fa8-f56c47513482",
   "metadata": {},
   "outputs": [],
   "source": [
    "x_train, x_test, y_train, y_test = train_test_split(x, y, test_size=0.1, random_state=2)"
   ]
  },
  {
   "cell_type": "markdown",
   "id": "58709676-3d8c-4e1f-a4ce-b0479ec3b41f",
   "metadata": {},
   "source": [
    "# Model training\n",
    "# 1. Linear Regression"
   ]
  },
  {
   "cell_type": "code",
   "execution_count": null,
   "id": "c25bf9e4-f224-4268-95fe-980539cda6d5",
   "metadata": {},
   "outputs": [],
   "source": [
    "x_train = x_train.fillna(0)"
   ]
  },
  {
   "cell_type": "code",
   "execution_count": null,
   "id": "a5b135cb-1be1-4f28-a9df-053528b5b996",
   "metadata": {},
   "outputs": [],
   "source": [
    "# loading the linear regression model\n",
    "reg = LinearRegression()\n",
    "reg.fit(x_train, y_train)"
   ]
  },
  {
   "cell_type": "code",
   "execution_count": null,
   "id": "2d8eab86-a1eb-4fd8-8fca-6c777bf481eb",
   "metadata": {},
   "outputs": [],
   "source": [
    "# prediction on training data\n",
    "training_data_prediction = reg.predict(x_train)"
   ]
  },
  {
   "cell_type": "code",
   "execution_count": null,
   "id": "ff256386-eb4d-4c8f-a5ff-606b5733c779",
   "metadata": {},
   "outputs": [],
   "source": [
    "# # R squared error\n",
    "error_score = metrics.r2_score(y_train,training_data_prediction)\n",
    "print('R squared Error: ',error_score)"
   ]
  },
  {
   "cell_type": "markdown",
   "id": "b3d840ef-1f9b-4321-a802-f0beebbffefb",
   "metadata": {},
   "source": [
    "# Visualize the actual prices and predict prices"
   ]
  },
  {
   "cell_type": "code",
   "execution_count": null,
   "id": "8388f13e-7144-4209-a4c0-c86d31d60b51",
   "metadata": {},
   "outputs": [],
   "source": [
    "plt.scatter(y_train, training_data_prediction)\n",
    "plt.xlabel('Actual Price')\n",
    "plt.ylabel('Predicted Price')\n",
    "plt.title('ACTUAL PRICES vs PREDICTED PRICES')"
   ]
  },
  {
   "cell_type": "code",
   "execution_count": null,
   "id": "fbcbd5a7-ce88-4c8f-80e5-c118850cbe0c",
   "metadata": {},
   "outputs": [],
   "source": [
    "# predictioin on testing data\n",
    "test_data_prediction = reg.predict(x_test)"
   ]
  },
  {
   "cell_type": "code",
   "execution_count": null,
   "id": "5233ca75-d2a7-4e3e-a970-0e7e10a4ed11",
   "metadata": {},
   "outputs": [],
   "source": [
    "# # R squared error\n",
    "error_score = metrics.r2_score(y_test,training_data_prediction)\n",
    "print('R squared Error: ',error_score)"
   ]
  },
  {
   "cell_type": "code",
   "execution_count": null,
   "id": "6f3d32ec-dfbd-4394-9fcd-8a06f4b130b2",
   "metadata": {},
   "outputs": [],
   "source": [
    "plt.scatter(y_test, test_data_prediction)\n",
    "plt.xlabel('Actual Price')\n",
    "plt.ylabel('Predicted Price')\n",
    "plt.title('ACTUAL PRICES vs PREDICTED PRICES')"
   ]
  }
 ],
 "metadata": {
  "kernelspec": {
   "display_name": "Python 3 (ipykernel)",
   "language": "python",
   "name": "python3"
  },
  "language_info": {
   "codemirror_mode": {
    "name": "ipython",
    "version": 3
   },
   "file_extension": ".py",
   "mimetype": "text/x-python",
   "name": "python",
   "nbconvert_exporter": "python",
   "pygments_lexer": "ipython3",
   "version": "3.11.7"
  }
 },
 "nbformat": 4,
 "nbformat_minor": 5
}
