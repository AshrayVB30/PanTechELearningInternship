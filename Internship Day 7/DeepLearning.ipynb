{
 "cells": [
  {
   "cell_type": "markdown",
   "id": "2bc6d21c-85af-4e6f-9c74-a9713bd8a929",
   "metadata": {},
   "source": [
    "# COMPUTER VISION\n",
    "INTRODUCTION TO OpenCV(OpenSource Computer Vision)"
   ]
  },
  {
   "cell_type": "code",
   "execution_count": null,
   "id": "2975c1db-6b13-4b81-baff-0f2305284506",
   "metadata": {},
   "outputs": [],
   "source": [
    "img = cv2.imread('images/butterfly.png')\n",
    "if img is None:\n",
    "    print(\"Error: Could not load image.\")\n",
    "else:\n",
    "    cv2.imshow('image', img)\n",
    "    cv2.waitKey(0)\n",
    "    cv2.destroyAllWindows()\n"
   ]
  },
  {
   "cell_type": "code",
   "execution_count": null,
   "id": "8430e433-ea2b-4b83-8948-6a1a605079e0",
   "metadata": {},
   "outputs": [],
   "source": [
    "# Resize\n",
    "import cv2\n",
    "\n",
    "img = cv2.imread('images/butterfly.png')\n",
    "cv2.imshow('images',img)\n",
    "imgResize = cv2.resize(img, (250, 250))\n",
    "cv2.imshow('copyied_images/resized.png',imgResize)\n",
    "cv2.waitKey(0)\n",
    "cv2.destroyAllWindows()"
   ]
  },
  {
   "cell_type": "code",
   "execution_count": null,
   "id": "568aa4fd-4289-49aa-9b57-2b02820d8d3b",
   "metadata": {},
   "outputs": [],
   "source": [
    "# Bluring image\n",
    "import cv2\n",
    "\n",
    "img = cv2.imread('images/butterfly.png')\n",
    "\n",
    "# Apply Gausssian blur\n",
    "g_blur = cv2.GaussianBlur(img, (15, 15), 0)\n",
    "\n",
    "# Display the result\n",
    "cv2.imshow('Gausssian blur: ',g_blur)\n",
    "cv2.waitKey(0)\n",
    "cv2.destroyAllWindows()"
   ]
  },
  {
   "cell_type": "code",
   "execution_count": null,
   "id": "58a93139-30d6-40b3-a807-8bf8fc664509",
   "metadata": {},
   "outputs": [],
   "source": [
    "# GRAYIMAGE\n",
    "import cv2\n",
    "\n",
    "img = cv2.imread('images/butterfly.png')\n",
    "cv2.imshow('ORIGINAL IMAGE', img)\n",
    "\n",
    "# Gray Scale image\n",
    "# use the cvtColor() function to grayscale the image\n",
    "gray_img = cv2.cvtColor(img, cv2.COLOR_BGR2GRAY)\n",
    "\n",
    "cv2.imshow('GRAYSCALE ',gray_img)\n",
    "cv2.waitKey(0)\n",
    "cv2.destroyAllWindows()"
   ]
  },
  {
   "cell_type": "code",
   "execution_count": null,
   "id": "c6e22be3-42b6-485a-953f-b36194c65361",
   "metadata": {},
   "outputs": [],
   "source": [
    "# rbg color\n",
    "import cv2\n",
    "\n",
    "img = cv2.imread('images/butterfly.png')\n",
    "cv2.imshow('ORIGINAL IMAGE', img)\n",
    "\n",
    "hsv_img = cv2.cvtColor(img, cv2.COLOR_BGR2HSV)\n",
    "cv2.imshow('RGB IMAGE: ',img)\n",
    "cv2.imshow('HSV IMAGE ',hsv_img)\n",
    "cv2.waitKey(0)\n",
    "cv2.destroyAllWindows()"
   ]
  },
  {
   "cell_type": "code",
   "execution_count": null,
   "id": "6302e2b0-87f5-4e50-bb13-427bca296223",
   "metadata": {},
   "outputs": [],
   "source": [
    "# EDGE DETECTION\n",
    "import cv2\n",
    "\n",
    "img = cv2.imread('images/butterfly.png')\n",
    "\n",
    "# READ THE IMAGE IN GRAYSCALE\n",
    "edges = cv2.Canny(img, 100, 200)\n",
    "cv2.imshow('ORGINAL IMAGE: ',img)\n",
    "cv2.imshow('CANNY EDGES ',edges)\n",
    "\n",
    "cv2.waitKey(0)\n",
    "cv2.destroyAllWindows()"
   ]
  },
  {
   "cell_type": "code",
   "execution_count": null,
   "id": "4adeb830-1024-4c1c-a622-83bf8e36c2e4",
   "metadata": {},
   "outputs": [],
   "source": [
    "# QR Generator\n",
    "import cv2\n",
    "import png\n",
    "import pyqrcode\n",
    "\n",
    "# string which represent the qr code\n",
    "s = 'https://karnatakatourism.org/'\n",
    "\n",
    "# generate QR Code\n",
    "url = pyqrcode.create(s)\n",
    "\n",
    "# create and save the svg file naming\n",
    "url.svg('images/myqr.svg', scale=8)\n",
    "\n",
    "# create and save the svg file naming\n",
    "url.png('images/qrcode.png', scale=9)\n",
    "\n",
    "qr_code = cv2.imread('images/qrcode.png')\n",
    "cv2.imshow(' QR CODE', qr_code)\n",
    "cv2.waitKey(0)\n",
    "cv2.destroyAllWindows()"
   ]
  },
  {
   "cell_type": "code",
   "execution_count": null,
   "id": "e6cb34e7-734c-4e9a-8226-42e661c43d3e",
   "metadata": {},
   "outputs": [],
   "source": [
    "# CIRCLE ON THE IMAGE\n",
    "import cv2\n",
    "\n",
    "image = cv2.imread('images/butterfly.png')\n",
    "\n",
    "center_coordinates = (150, 100)\n",
    "radius = 50\n",
    "color = (255, 0, 0)\n",
    "thickness = 2\n",
    "\n",
    "cv2.circle(image, center_coordinates, radius, color, thickness)\n",
    "\n",
    "cv2.imshow('Image with circle', image)\n",
    "cv2.waitKey(0)\n",
    "cv2.destroyAllWindows()"
   ]
  },
  {
   "cell_type": "code",
   "execution_count": null,
   "id": "6f63e87e-52d5-4500-915a-2f0662680d70",
   "metadata": {},
   "outputs": [],
   "source": [
    "# Video \n",
    "import cv2\n",
    "\n",
    "video_path = 'images/namaste.mp4'\n",
    "\n",
    "cap = cv2.VideoCapture(video_path)\n",
    "\n",
    "if not cap.isOpened():\n",
    "    print('Error: Ur video is not found')\n",
    "    exit()\n",
    "\n",
    "# Loop through the frames of the video\n",
    "while True:\n",
    "    # Read a frame from the video\n",
    "    ret, frame = cap.read()\n",
    "    \n",
    "    # if the frame was not read successfully, exit the loop\n",
    "    if not ret:\n",
    "        break\n",
    "\n",
    "    # display the frame\n",
    "    cv2.imshow('Frame ',frame)\n",
    "\n",
    "    # wait for the key press to exit\n",
    "    if cv2.waitKey(25) & 0xFF == ord('q'):\n",
    "        break\n",
    "\n",
    "# release the video capture object and close all windows\n",
    "cap.release()\n",
    "cv2.destroyAllWindows()"
   ]
  },
  {
   "cell_type": "markdown",
   "id": "5f8174bb",
   "metadata": {},
   "source": [
    "Task:\n",
    "1. Draw various shapes and text on the image. Display image with shape and text \n",
    "2. Write a function to rotate an image by specified angle. Display the original image."
   ]
  }
 ],
 "metadata": {
  "kernelspec": {
   "display_name": "Python 3 (ipykernel)",
   "language": "python",
   "name": "python3"
  },
  "language_info": {
   "codemirror_mode": {
    "name": "ipython",
    "version": 3
   },
   "file_extension": ".py",
   "mimetype": "text/x-python",
   "name": "python",
   "nbconvert_exporter": "python",
   "pygments_lexer": "ipython3",
   "version": "3.11.7"
  }
 },
 "nbformat": 4,
 "nbformat_minor": 5
}
